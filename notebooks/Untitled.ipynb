{
 "cells": [
  {
   "cell_type": "code",
   "execution_count": 1,
   "metadata": {},
   "outputs": [],
   "source": [
    "import geopandas as gpd\n",
    "import pandas as pd\n",
    "import folium\n",
    "from folium import plugins\n",
    "import matplotlib.pyplot as plt\n",
    "import cartopy.crs as ccrs\n",
    "from numpy import mean, histogram2d\n",
    "%matplotlib inline\n",
    "%config InlineBackend.figure_format = 'retina'\n"
   ]
  },
  {
   "cell_type": "markdown",
   "metadata": {},
   "source": [
    "# 1: Initial Static Heatmap Visualizations\n",
    "\n",
    "Data is experimental january 1981 body temperature data. "
   ]
  },
  {
   "cell_type": "code",
   "execution_count": 2,
   "metadata": {},
   "outputs": [],
   "source": [
    "DATAFILE = \"../data/jan1981To.csv\"\n"
   ]
  },
  {
   "cell_type": "code",
   "execution_count": 3,
   "metadata": {},
   "outputs": [],
   "source": [
    "def readTempData(file):\n",
    "    from shapely.geometry import Point\n",
    "    _tdf = pd.read_csv(file, parse_dates=['datetimef'])\n",
    "    _tdf = _tdf.set_index('datetimef')\n",
    "    geometry = [Point(d['lon'], d['lat']) for _, d in _tdf.iterrows()]\n",
    "    datetime = []\n",
    "    _gdf = gpd.GeoDataFrame(_tdf, geometry = geometry)\n",
    "    return(_gdf)\n"
   ]
  },
  {
   "cell_type": "code",
   "execution_count": 4,
   "metadata": {},
   "outputs": [],
   "source": [
    "tempdata = readTempData(DATAFILE)"
   ]
  },
  {
   "cell_type": "code",
   "execution_count": 56,
   "metadata": {},
   "outputs": [],
   "source": [
    "def heatmap(df, projection = ccrs.PlateCarree(), interp=None):\n",
    "    \"\"\"\n",
    "        Make heatmap of To_lizard on map given projection and date which is either 'random'\n",
    "        or a datetime object. \n",
    "    \"\"\"\n",
    "    ax = plt.axes(projection=projection)\n",
    "    ax.gridlines(draw_labels=True)\n",
    "   \n",
    "    # bounds \n",
    "    bounds = df.total_bounds\n",
    "    ax.set_extent([bounds[0], bounds[2], bounds[1], bounds[3]])\n",
    "\n",
    "    # extract data \n",
    "    grid = histogram2d(df['lon'], df['lat'], bins=(len(df['lon']), len(df['lat'])), weights=df['To_Lizard'])\n",
    "    \n",
    "    # interpolate \n",
    "    if interp is not None:\n",
    "        from scipy.interpolate import interp2d\n",
    "        print(len(grid[1]) * len(grid[2]) ,grid[0].shape)\n",
    "        interpf  = interp2d(grid[1], grid[2], grid[0], kind = interp)\n",
    "    # heatmap\n",
    "    \n",
    "    ax.pcolormesh(grid[1], grid[2], grid[0], transform=projection)\n",
    "    \n",
    "    plt.show()"
   ]
  },
  {
   "cell_type": "code",
   "execution_count": 32,
   "metadata": {},
   "outputs": [],
   "source": [
    "def map_points(df, lat_col='lat', lon_col='lon', zoom_start=11, \\\n",
    "                plot_points=False, pt_radius=15, \\\n",
    "                draw_heatmap=False, heat_map_weights_col=None, \\\n",
    "                heat_map_weights_normalize=True, heat_map_radius=15):\n",
    "    \"\"\"Creates a map given a dataframe of points. Can also produce a heatmap overlay\n",
    "\n",
    "    Arg:\n",
    "        df: dataframe containing points to maps\n",
    "        lat_col: Column containing latitude (string)\n",
    "        lon_col: Column containing longitude (string)\n",
    "        zoom_start: Integer representing the initial zoom of the map\n",
    "        plot_points: Add points to map (boolean)\n",
    "        pt_radius: Size of each point\n",
    "        draw_heatmap: Add heatmap to map (boolean)\n",
    "        heat_map_weights_col: Column containing heatmap weights\n",
    "        heat_map_weights_normalize: Normalize heatmap weights (boolean)\n",
    "        heat_map_radius: Size of heatmap point\n",
    "\n",
    "    Returns:\n",
    "        folium map object\n",
    "    \"\"\"\n",
    "\n",
    "    ## center map in the middle of points center in\n",
    "    middle_lat = df[lat_col].median()\n",
    "    middle_lon = df[lon_col].median()\n",
    "\n",
    "    curr_map = folium.Map(location=[middle_lat, middle_lon],\n",
    "                          zoom_start=zoom_start)\n",
    "\n",
    "    # add points to map\n",
    "    if plot_points:\n",
    "        for _, row in df.iterrows():\n",
    "            folium.CircleMarker([row[lat_col], row[lon_col]],\n",
    "                                radius=pt_radius,\n",
    "                                popup=row['name'],\n",
    "                                fill_color=\"#3db7e4\", # divvy color\n",
    "                               ).add_to(curr_map)\n",
    "\n",
    "    # add heatmap\n",
    "    if draw_heatmap:\n",
    "        # convert to (n, 2) or (n, 3) matrix format\n",
    "        if heat_map_weights_col is None:\n",
    "            cols_to_pull = [lat_col, lon_col]\n",
    "        else:\n",
    "            # if we have to normalize\n",
    "            if heat_map_weights_normalize:\n",
    "                df[heat_map_weights_col] = \\\n",
    "                    df[heat_map_weights_col] / df[heat_map_weights_col].sum()\n",
    "\n",
    "            cols_to_pull = [lat_col, lon_col, heat_map_weights_col]\n",
    "\n",
    "        stations = df[cols_to_pull].as_matrix().tolist()\n",
    "        curr_map.add_child(plugins.HeatMap(stations, radius=heat_map_radius))\n",
    "\n",
    "    return curr_map"
   ]
  },
  {
   "cell_type": "code",
   "execution_count": 12,
   "metadata": {},
   "outputs": [],
   "source": [
    "selected = tempdata.loc['1981-01-01 12:00']\n",
    "grid = histogram2d(selected['lon'], selected['lat'], bins=(len(selected['lon']), len(selected['lat'])), weights=selected['To_Lizard'].values)"
   ]
  },
  {
   "cell_type": "code",
   "execution_count": null,
   "metadata": {},
   "outputs": [],
   "source": []
  },
  {
   "cell_type": "code",
   "execution_count": null,
   "metadata": {},
   "outputs": [],
   "source": []
  }
 ],
 "metadata": {
  "kernelspec": {
   "display_name": "Python [conda env:imageprocess]",
   "language": "python",
   "name": "conda-env-imageprocess-py"
  },
  "language_info": {
   "codemirror_mode": {
    "name": "ipython",
    "version": 3
   },
   "file_extension": ".py",
   "mimetype": "text/x-python",
   "name": "python",
   "nbconvert_exporter": "python",
   "pygments_lexer": "ipython3",
   "version": "3.5.4"
  }
 },
 "nbformat": 4,
 "nbformat_minor": 2
}
